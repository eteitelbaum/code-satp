{
 "cells": [
  {
   "cell_type": "markdown",
   "metadata": {},
   "source": [
    "## Load the libraries"
   ]
  },
  {
   "cell_type": "code",
   "execution_count": 1,
   "metadata": {},
   "outputs": [
    {
     "name": "stderr",
     "output_type": "stream",
     "text": [
      "/Users/ejt/anaconda3/envs/code-satp/lib/python3.9/site-packages/tqdm/auto.py:21: TqdmWarning: IProgress not found. Please update jupyter and ipywidgets. See https://ipywidgets.readthedocs.io/en/stable/user_install.html\n",
      "  from .autonotebook import tqdm as notebook_tqdm\n"
     ]
    }
   ],
   "source": [
    "import pandas as pd\n",
    "from transformers import pipeline\n",
    "from tqdm import tqdm"
   ]
  },
  {
   "cell_type": "markdown",
   "metadata": {},
   "source": [
    "## Load, inspect and clean the data"
   ]
  },
  {
   "cell_type": "code",
   "execution_count": 2,
   "metadata": {},
   "outputs": [
    {
     "name": "stdout",
     "output_type": "stream",
     "text": [
      "<class 'pandas.core.frame.DataFrame'>\n",
      "RangeIndex: 9921 entries, 0 to 9920\n",
      "Data columns (total 47 columns):\n",
      " #   Column                     Non-Null Count  Dtype  \n",
      "---  ------                     --------------  -----  \n",
      " 0   incident_number            9920 non-null   float64\n",
      " 1   state                      9921 non-null   object \n",
      " 2   district                   9921 non-null   object \n",
      " 3   block                      5360 non-null   object \n",
      " 4   village_name               5232 non-null   object \n",
      " 5   other_areas                4026 non-null   object \n",
      " 6   constituency               7192 non-null   object \n",
      " 7   longitude                  7275 non-null   float64\n",
      " 8   latitude                   7275 non-null   float64\n",
      " 9   year                       9921 non-null   int64  \n",
      " 10  date                       9920 non-null   object \n",
      " 11  perpetrator                9921 non-null   object \n",
      " 12  first_action               9919 non-null   object \n",
      " 13  second_action              2220 non-null   object \n",
      " 14  third_action               134 non-null    object \n",
      " 15  armed_assault              9921 non-null   int64  \n",
      " 16  arrest                     9921 non-null   int64  \n",
      " 17  bombing                    9921 non-null   int64  \n",
      " 18  infrastructure             9921 non-null   int64  \n",
      " 19  surrender                  9921 non-null   int64  \n",
      " 20  seizure                    9921 non-null   int64  \n",
      " 21  abduction                  9921 non-null   int64  \n",
      " 22  action_successful          9904 non-null   float64\n",
      " 23  first_target               9921 non-null   object \n",
      " 24  second_target              9920 non-null   object \n",
      " 25  civilians                  9921 non-null   int64  \n",
      " 26  maoist                     9921 non-null   int64  \n",
      " 27  government_officials       9921 non-null   int64  \n",
      " 28  security                   9921 non-null   int64  \n",
      " 29  private_property           9921 non-null   int64  \n",
      " 30  mining_company             9921 non-null   int64  \n",
      " 31  ngos                       9921 non-null   int64  \n",
      " 32  government_infrastructure  9921 non-null   int64  \n",
      " 33  non_maoist_armed_group     9921 non-null   int64  \n",
      " 34  no_target                  9921 non-null   int64  \n",
      " 35  first_civilian_target      1446 non-null   object \n",
      " 36  second_civilian_target     157 non-null    object \n",
      " 37  former_maoist              9921 non-null   int64  \n",
      " 38  high_caste_landowner       9921 non-null   int64  \n",
      " 39  police_informer            9921 non-null   int64  \n",
      " 40  businessman                9921 non-null   int64  \n",
      " 41  aspiring_politician        9921 non-null   int64  \n",
      " 42  other_elite                9921 non-null   int64  \n",
      " 43  other_civilian             9921 non-null   int64  \n",
      " 44  property_damage            9921 non-null   int64  \n",
      " 45  value_property_damage      1366 non-null   object \n",
      " 46  incident_summary           9921 non-null   object \n",
      "dtypes: float64(4), int64(26), object(17)\n",
      "memory usage: 3.6+ MB\n"
     ]
    },
    {
     "data": {
      "text/plain": [
       "perpetrator\n",
       "Maoist                    5190\n",
       "Security                  4263\n",
       "Unknown                    461\n",
       "Non-Maoist Armed Group       6\n",
       "Civilians                    1\n",
       "Name: count, dtype: int64"
      ]
     },
     "execution_count": 2,
     "metadata": {},
     "output_type": "execute_result"
    }
   ],
   "source": [
    "# load data\n",
    "csv_path = 'data/satp_classification.csv'\n",
    "satp_df = pd.read_csv(csv_path)\n",
    "\n",
    "# inspect data\n",
    "satp_df.info()\n",
    "satp_df.head()\n",
    "\n",
    "# look at counts of original labels\n",
    "satp_df['perpetrator'].value_counts() \n"
   ]
  },
  {
   "cell_type": "markdown",
   "metadata": {},
   "source": [
    "Note that `Civilian` and `Non-Maoist Armed Group` account for just a handful of observations. Let's drop these to simplify the analysis. "
   ]
  },
  {
   "cell_type": "code",
   "execution_count": 3,
   "metadata": {},
   "outputs": [
    {
     "data": {
      "text/plain": [
       "perpetrator\n",
       "Maoist      5190\n",
       "Security    4263\n",
       "Unknown      461\n",
       "Name: count, dtype: int64"
      ]
     },
     "execution_count": 3,
     "metadata": {},
     "output_type": "execute_result"
    }
   ],
   "source": [
    "# drop out values\n",
    "satp_df = satp_df[~((satp_df['perpetrator'] == \"Civilians\") | (satp_df['perpetrator'] == \"Non-Maoist Armed Group\"))]\n",
    "\n",
    "# look at counts of original labels again\n",
    "satp_df['perpetrator'].value_counts() "
   ]
  },
  {
   "cell_type": "markdown",
   "metadata": {},
   "source": [
    "Now let's convert the original labels to the same format that our candidate and predicted labels are going to be."
   ]
  },
  {
   "cell_type": "code",
   "execution_count": 4,
   "metadata": {},
   "outputs": [
    {
     "name": "stdout",
     "output_type": "stream",
     "text": [
      "<class 'pandas.core.frame.DataFrame'>\n",
      "Index: 9914 entries, 0 to 9920\n",
      "Data columns (total 48 columns):\n",
      " #   Column                     Non-Null Count  Dtype  \n",
      "---  ------                     --------------  -----  \n",
      " 0   incident_number            9913 non-null   float64\n",
      " 1   state                      9914 non-null   object \n",
      " 2   district                   9914 non-null   object \n",
      " 3   block                      5358 non-null   object \n",
      " 4   village_name               5228 non-null   object \n",
      " 5   other_areas                4025 non-null   object \n",
      " 6   constituency               7187 non-null   object \n",
      " 7   longitude                  7270 non-null   float64\n",
      " 8   latitude                   7270 non-null   float64\n",
      " 9   year                       9914 non-null   int64  \n",
      " 10  date                       9913 non-null   object \n",
      " 11  perpetrator                9914 non-null   object \n",
      " 12  first_action               9912 non-null   object \n",
      " 13  second_action              2219 non-null   object \n",
      " 14  third_action               134 non-null    object \n",
      " 15  armed_assault              9914 non-null   int64  \n",
      " 16  arrest                     9914 non-null   int64  \n",
      " 17  bombing                    9914 non-null   int64  \n",
      " 18  infrastructure             9914 non-null   int64  \n",
      " 19  surrender                  9914 non-null   int64  \n",
      " 20  seizure                    9914 non-null   int64  \n",
      " 21  abduction                  9914 non-null   int64  \n",
      " 22  action_successful          9897 non-null   float64\n",
      " 23  first_target               9914 non-null   object \n",
      " 24  second_target              9913 non-null   object \n",
      " 25  civilians                  9914 non-null   int64  \n",
      " 26  maoist                     9914 non-null   int64  \n",
      " 27  government_officials       9914 non-null   int64  \n",
      " 28  security                   9914 non-null   int64  \n",
      " 29  private_property           9914 non-null   int64  \n",
      " 30  mining_company             9914 non-null   int64  \n",
      " 31  ngos                       9914 non-null   int64  \n",
      " 32  government_infrastructure  9914 non-null   int64  \n",
      " 33  non_maoist_armed_group     9914 non-null   int64  \n",
      " 34  no_target                  9914 non-null   int64  \n",
      " 35  first_civilian_target      1444 non-null   object \n",
      " 36  second_civilian_target     157 non-null    object \n",
      " 37  former_maoist              9914 non-null   int64  \n",
      " 38  high_caste_landowner       9914 non-null   int64  \n",
      " 39  police_informer            9914 non-null   int64  \n",
      " 40  businessman                9914 non-null   int64  \n",
      " 41  aspiring_politician        9914 non-null   int64  \n",
      " 42  other_elite                9914 non-null   int64  \n",
      " 43  other_civilian             9914 non-null   int64  \n",
      " 44  property_damage            9914 non-null   int64  \n",
      " 45  value_property_damage      1366 non-null   object \n",
      " 46  incident_summary           9914 non-null   object \n",
      " 47  original_label             9914 non-null   object \n",
      "dtypes: float64(4), int64(26), object(18)\n",
      "memory usage: 3.7+ MB\n"
     ]
    },
    {
     "data": {
      "text/plain": [
       "original_label\n",
       "action undertaken by maoist insurgents    5190\n",
       "action undertaken by security forces      4263\n",
       "unclear who initiated action               461\n",
       "Name: count, dtype: int64"
      ]
     },
     "execution_count": 4,
     "metadata": {},
     "output_type": "execute_result"
    }
   ],
   "source": [
    "# convert original labels to same format as predicted\n",
    "satp_df['original_label'] = satp_df['perpetrator'].map({\n",
    "    \"Security\": \"action undertaken by security forces\",\n",
    "    \"Maoist\": \"action undertaken by maoist insurgents\",\n",
    "     \"Unknown\": \"unclear who initiated action\"\n",
    "})\n",
    "\n",
    "# inspect data\n",
    "satp_df.info()\n",
    "satp_df.shape\n",
    "\n",
    "# look at counts of original labels\n",
    "satp_df['original_label'].value_counts()"
   ]
  },
  {
   "cell_type": "markdown",
   "metadata": {},
   "source": [
    "## Set up zero-shot classification model"
   ]
  },
  {
   "cell_type": "code",
   "execution_count": 5,
   "metadata": {},
   "outputs": [
    {
     "name": "stderr",
     "output_type": "stream",
     "text": [
      "The `xla_device` argument has been deprecated in v4.4.0 of Transformers. It is ignored and you can safely remove it from your `config.json` file.\n",
      "The `xla_device` argument has been deprecated in v4.4.0 of Transformers. It is ignored and you can safely remove it from your `config.json` file.\n",
      "The `xla_device` argument has been deprecated in v4.4.0 of Transformers. It is ignored and you can safely remove it from your `config.json` file.\n",
      "The `xla_device` argument has been deprecated in v4.4.0 of Transformers. It is ignored and you can safely remove it from your `config.json` file.\n",
      "The `xla_device` argument has been deprecated in v4.4.0 of Transformers. It is ignored and you can safely remove it from your `config.json` file.\n"
     ]
    }
   ],
   "source": [
    "# Load zero-shot classification pipeline\n",
    "classifier = pipeline(\"zero-shot-classification\", model=\"typeform/distilbert-base-uncased-mnli\")\n",
    "\n",
    "# Define the candidate labels\n",
    "candidate_labels = [\"action undertaken by security forces\", \"action undertaken by maoist insurgents\", \"unclear who initiated action\"]\n",
    "\n",
    "# Function to classify a single observation\n",
    "def classify_text(text):\n",
    "    result = classifier(text, candidate_labels)\n",
    "    return result['labels'][0], result['scores'][0]  # Returning the top label and its score"
   ]
  },
  {
   "cell_type": "markdown",
   "metadata": {},
   "source": [
    "## Run the zero shot model"
   ]
  },
  {
   "cell_type": "code",
   "execution_count": 6,
   "metadata": {},
   "outputs": [
    {
     "name": "stderr",
     "output_type": "stream",
     "text": [
      "  0%|          | 0/9914 [00:00<?, ?it/s]"
     ]
    },
    {
     "name": "stderr",
     "output_type": "stream",
     "text": [
      "100%|██████████| 9914/9914 [11:44<00:00, 14.07it/s]\n"
     ]
    }
   ],
   "source": [
    "# Apply classification to each text description\n",
    "tqdm.pandas()  # For progress bar\n",
    "results = satp_df['incident_summary'].progress_apply(classify_text)\n",
    "\n",
    "# Split results into separate columns and join back to the original DataFrame\n",
    "satp_df[['predicted_label', 'confidence']] = pd.DataFrame(results.tolist(), index=satp_df.index)\n",
    "\n",
    "# Now satp_df includes the predicted labels and confidence scores"
   ]
  },
  {
   "cell_type": "markdown",
   "metadata": {},
   "source": [
    "## View the data"
   ]
  },
  {
   "cell_type": "code",
   "execution_count": 11,
   "metadata": {},
   "outputs": [
    {
     "name": "stdout",
     "output_type": "stream",
     "text": [
      "Unique True Labels: ['action undertaken by security forces'\n",
      " 'action undertaken by maoist insurgents' 'unclear who initiated action']\n",
      "Unique Predicted Labels: ['unclear who initiated action' 'action undertaken by maoist insurgents'\n",
      " 'action undertaken by security forces']\n",
      "<class 'pandas.core.frame.DataFrame'>\n",
      "Index: 9914 entries, 0 to 9920\n",
      "Data columns (total 50 columns):\n",
      " #   Column                     Non-Null Count  Dtype  \n",
      "---  ------                     --------------  -----  \n",
      " 0   incident_number            9913 non-null   float64\n",
      " 1   state                      9914 non-null   object \n",
      " 2   district                   9914 non-null   object \n",
      " 3   block                      5358 non-null   object \n",
      " 4   village_name               5228 non-null   object \n",
      " 5   other_areas                4025 non-null   object \n",
      " 6   constituency               7187 non-null   object \n",
      " 7   longitude                  7270 non-null   float64\n",
      " 8   latitude                   7270 non-null   float64\n",
      " 9   year                       9914 non-null   int64  \n",
      " 10  date                       9913 non-null   object \n",
      " 11  perpetrator                9914 non-null   object \n",
      " 12  first_action               9912 non-null   object \n",
      " 13  second_action              2219 non-null   object \n",
      " 14  third_action               134 non-null    object \n",
      " 15  armed_assault              9914 non-null   int64  \n",
      " 16  arrest                     9914 non-null   int64  \n",
      " 17  bombing                    9914 non-null   int64  \n",
      " 18  infrastructure             9914 non-null   int64  \n",
      " 19  surrender                  9914 non-null   int64  \n",
      " 20  seizure                    9914 non-null   int64  \n",
      " 21  abduction                  9914 non-null   int64  \n",
      " 22  action_successful          9897 non-null   float64\n",
      " 23  first_target               9914 non-null   object \n",
      " 24  second_target              9913 non-null   object \n",
      " 25  civilians                  9914 non-null   int64  \n",
      " 26  maoist                     9914 non-null   int64  \n",
      " 27  government_officials       9914 non-null   int64  \n",
      " 28  security                   9914 non-null   int64  \n",
      " 29  private_property           9914 non-null   int64  \n",
      " 30  mining_company             9914 non-null   int64  \n",
      " 31  ngos                       9914 non-null   int64  \n",
      " 32  government_infrastructure  9914 non-null   int64  \n",
      " 33  non_maoist_armed_group     9914 non-null   int64  \n",
      " 34  no_target                  9914 non-null   int64  \n",
      " 35  first_civilian_target      1444 non-null   object \n",
      " 36  second_civilian_target     157 non-null    object \n",
      " 37  former_maoist              9914 non-null   int64  \n",
      " 38  high_caste_landowner       9914 non-null   int64  \n",
      " 39  police_informer            9914 non-null   int64  \n",
      " 40  businessman                9914 non-null   int64  \n",
      " 41  aspiring_politician        9914 non-null   int64  \n",
      " 42  other_elite                9914 non-null   int64  \n",
      " 43  other_civilian             9914 non-null   int64  \n",
      " 44  property_damage            9914 non-null   int64  \n",
      " 45  value_property_damage      1366 non-null   object \n",
      " 46  incident_summary           9914 non-null   object \n",
      " 47  original_label             9914 non-null   object \n",
      " 48  predicted_label            9914 non-null   object \n",
      " 49  confidence                 9914 non-null   float64\n",
      "dtypes: float64(5), int64(26), object(19)\n",
      "memory usage: 3.9+ MB\n"
     ]
    },
    {
     "data": {
      "text/html": [
       "<div>\n",
       "<style scoped>\n",
       "    .dataframe tbody tr th:only-of-type {\n",
       "        vertical-align: middle;\n",
       "    }\n",
       "\n",
       "    .dataframe tbody tr th {\n",
       "        vertical-align: top;\n",
       "    }\n",
       "\n",
       "    .dataframe thead th {\n",
       "        text-align: right;\n",
       "    }\n",
       "</style>\n",
       "<table border=\"1\" class=\"dataframe\">\n",
       "  <thead>\n",
       "    <tr style=\"text-align: right;\">\n",
       "      <th></th>\n",
       "      <th>incident_number</th>\n",
       "      <th>state</th>\n",
       "      <th>district</th>\n",
       "      <th>block</th>\n",
       "      <th>village_name</th>\n",
       "      <th>other_areas</th>\n",
       "      <th>constituency</th>\n",
       "      <th>longitude</th>\n",
       "      <th>latitude</th>\n",
       "      <th>year</th>\n",
       "      <th>...</th>\n",
       "      <th>businessman</th>\n",
       "      <th>aspiring_politician</th>\n",
       "      <th>other_elite</th>\n",
       "      <th>other_civilian</th>\n",
       "      <th>property_damage</th>\n",
       "      <th>value_property_damage</th>\n",
       "      <th>incident_summary</th>\n",
       "      <th>original_label</th>\n",
       "      <th>predicted_label</th>\n",
       "      <th>confidence</th>\n",
       "    </tr>\n",
       "  </thead>\n",
       "  <tbody>\n",
       "    <tr>\n",
       "      <th>0</th>\n",
       "      <td>101010701.0</td>\n",
       "      <td>Andhra Pradesh</td>\n",
       "      <td>Hyderabad</td>\n",
       "      <td>Gachibowli (Rangareddy)</td>\n",
       "      <td>NaN</td>\n",
       "      <td>Cyberabad</td>\n",
       "      <td>Serilingampally</td>\n",
       "      <td>17.432500</td>\n",
       "      <td>78.371806</td>\n",
       "      <td>2007</td>\n",
       "      <td>...</td>\n",
       "      <td>0</td>\n",
       "      <td>0</td>\n",
       "      <td>0</td>\n",
       "      <td>0</td>\n",
       "      <td>0</td>\n",
       "      <td>NaN</td>\n",
       "      <td>An alleged arms supplier to the Communist Part...</td>\n",
       "      <td>action undertaken by security forces</td>\n",
       "      <td>unclear who initiated action</td>\n",
       "      <td>0.426653</td>\n",
       "    </tr>\n",
       "    <tr>\n",
       "      <th>1</th>\n",
       "      <td>101010901.0</td>\n",
       "      <td>Andhra Pradesh</td>\n",
       "      <td>Nizamabad</td>\n",
       "      <td>NaN</td>\n",
       "      <td>Kamareddy</td>\n",
       "      <td>NaN</td>\n",
       "      <td>Kamareddy</td>\n",
       "      <td>18.320889</td>\n",
       "      <td>78.337139</td>\n",
       "      <td>2009</td>\n",
       "      <td>...</td>\n",
       "      <td>0</td>\n",
       "      <td>0</td>\n",
       "      <td>0</td>\n",
       "      <td>0</td>\n",
       "      <td>0</td>\n",
       "      <td>NaN</td>\n",
       "      <td>A Kamareddy dalam (squad) member belonging to ...</td>\n",
       "      <td>action undertaken by maoist insurgents</td>\n",
       "      <td>unclear who initiated action</td>\n",
       "      <td>0.421656</td>\n",
       "    </tr>\n",
       "    <tr>\n",
       "      <th>2</th>\n",
       "      <td>101030601.0</td>\n",
       "      <td>Andhra Pradesh</td>\n",
       "      <td>Khammam</td>\n",
       "      <td>NaN</td>\n",
       "      <td>Bhadrachalam</td>\n",
       "      <td>NaN</td>\n",
       "      <td>Bhadrachalam</td>\n",
       "      <td>17.668056</td>\n",
       "      <td>80.896861</td>\n",
       "      <td>2006</td>\n",
       "      <td>...</td>\n",
       "      <td>0</td>\n",
       "      <td>0</td>\n",
       "      <td>0</td>\n",
       "      <td>0</td>\n",
       "      <td>0</td>\n",
       "      <td>NaN</td>\n",
       "      <td>Senior CPI-Maoist 'Polit Bureau' and 'central ...</td>\n",
       "      <td>action undertaken by security forces</td>\n",
       "      <td>unclear who initiated action</td>\n",
       "      <td>0.435862</td>\n",
       "    </tr>\n",
       "    <tr>\n",
       "      <th>3</th>\n",
       "      <td>101051602.0</td>\n",
       "      <td>Andhra Pradesh</td>\n",
       "      <td>Vishakhapatnam</td>\n",
       "      <td>NaN</td>\n",
       "      <td>NaN</td>\n",
       "      <td>Visakha Agency</td>\n",
       "      <td>Rayadurg</td>\n",
       "      <td>17.708778</td>\n",
       "      <td>83.302833</td>\n",
       "      <td>2016</td>\n",
       "      <td>...</td>\n",
       "      <td>0</td>\n",
       "      <td>0</td>\n",
       "      <td>0</td>\n",
       "      <td>0</td>\n",
       "      <td>0</td>\n",
       "      <td>NaN</td>\n",
       "      <td>A TDP leader and former Sarpanch of Jerrela Gr...</td>\n",
       "      <td>action undertaken by maoist insurgents</td>\n",
       "      <td>unclear who initiated action</td>\n",
       "      <td>0.415907</td>\n",
       "    </tr>\n",
       "    <tr>\n",
       "      <th>4</th>\n",
       "      <td>101060701.0</td>\n",
       "      <td>Andhra Pradesh</td>\n",
       "      <td>Visakhapatnam</td>\n",
       "      <td>GK Veedhi</td>\n",
       "      <td>Teegalabanda</td>\n",
       "      <td>Pedalavasa</td>\n",
       "      <td>Rayadurg</td>\n",
       "      <td>17.861861</td>\n",
       "      <td>82.196889</td>\n",
       "      <td>2007</td>\n",
       "      <td>...</td>\n",
       "      <td>0</td>\n",
       "      <td>0</td>\n",
       "      <td>0</td>\n",
       "      <td>0</td>\n",
       "      <td>1</td>\n",
       "      <td>A blasting was reported, extent of damages was...</td>\n",
       "      <td>The CPI-Maoist cadres blasted coffee pulping u...</td>\n",
       "      <td>action undertaken by maoist insurgents</td>\n",
       "      <td>action undertaken by maoist insurgents</td>\n",
       "      <td>0.986397</td>\n",
       "    </tr>\n",
       "  </tbody>\n",
       "</table>\n",
       "<p>5 rows × 50 columns</p>\n",
       "</div>"
      ],
      "text/plain": [
       "   incident_number           state        district                    block  \\\n",
       "0      101010701.0  Andhra Pradesh       Hyderabad  Gachibowli (Rangareddy)   \n",
       "1      101010901.0  Andhra Pradesh       Nizamabad                      NaN   \n",
       "2      101030601.0  Andhra Pradesh         Khammam                      NaN   \n",
       "3      101051602.0  Andhra Pradesh  Vishakhapatnam                      NaN   \n",
       "4      101060701.0  Andhra Pradesh   Visakhapatnam                GK Veedhi   \n",
       "\n",
       "   village_name     other_areas     constituency  longitude   latitude  year  \\\n",
       "0           NaN       Cyberabad  Serilingampally  17.432500  78.371806  2007   \n",
       "1     Kamareddy             NaN        Kamareddy  18.320889  78.337139  2009   \n",
       "2  Bhadrachalam             NaN     Bhadrachalam  17.668056  80.896861  2006   \n",
       "3           NaN  Visakha Agency         Rayadurg  17.708778  83.302833  2016   \n",
       "4  Teegalabanda      Pedalavasa         Rayadurg  17.861861  82.196889  2007   \n",
       "\n",
       "   ... businessman aspiring_politician other_elite other_civilian  \\\n",
       "0  ...           0                   0           0              0   \n",
       "1  ...           0                   0           0              0   \n",
       "2  ...           0                   0           0              0   \n",
       "3  ...           0                   0           0              0   \n",
       "4  ...           0                   0           0              0   \n",
       "\n",
       "  property_damage                              value_property_damage  \\\n",
       "0               0                                                NaN   \n",
       "1               0                                                NaN   \n",
       "2               0                                                NaN   \n",
       "3               0                                                NaN   \n",
       "4               1  A blasting was reported, extent of damages was...   \n",
       "\n",
       "                                    incident_summary  \\\n",
       "0  An alleged arms supplier to the Communist Part...   \n",
       "1  A Kamareddy dalam (squad) member belonging to ...   \n",
       "2  Senior CPI-Maoist 'Polit Bureau' and 'central ...   \n",
       "3  A TDP leader and former Sarpanch of Jerrela Gr...   \n",
       "4  The CPI-Maoist cadres blasted coffee pulping u...   \n",
       "\n",
       "                           original_label  \\\n",
       "0    action undertaken by security forces   \n",
       "1  action undertaken by maoist insurgents   \n",
       "2    action undertaken by security forces   \n",
       "3  action undertaken by maoist insurgents   \n",
       "4  action undertaken by maoist insurgents   \n",
       "\n",
       "                          predicted_label  confidence  \n",
       "0            unclear who initiated action    0.426653  \n",
       "1            unclear who initiated action    0.421656  \n",
       "2            unclear who initiated action    0.435862  \n",
       "3            unclear who initiated action    0.415907  \n",
       "4  action undertaken by maoist insurgents    0.986397  \n",
       "\n",
       "[5 rows x 50 columns]"
      ]
     },
     "execution_count": 11,
     "metadata": {},
     "output_type": "execute_result"
    }
   ],
   "source": [
    "# Check unique values in the actual labels\n",
    "unique_true_labels = satp_df['original_label'].unique()\n",
    "print(\"Unique True Labels:\", unique_true_labels)\n",
    "\n",
    "# Check unique values in the predicted labels\n",
    "unique_predicted_labels = satp_df['predicted_label'].unique()\n",
    "print(\"Unique Predicted Labels:\", unique_predicted_labels)\n",
    "\n",
    "# View info and head\n",
    "satp_df.shape\n",
    "satp_df.info()\n",
    "satp_df.head()"
   ]
  },
  {
   "cell_type": "markdown",
   "metadata": {},
   "source": [
    "## Compute accuracy and confusion matrix for the zero-shot model"
   ]
  },
  {
   "cell_type": "code",
   "execution_count": 12,
   "metadata": {},
   "outputs": [
    {
     "name": "stdout",
     "output_type": "stream",
     "text": [
      "Accuracy: 0.5145249142626589\n",
      "[[3324  765 1101]\n",
      " [1408 1615 1240]\n",
      " [ 158  141  162]]\n"
     ]
    },
    {
     "data": {
      "image/png": "[encoded data removed]",
      "text/plain": [
       "<Figure size 1000x700 with 2 Axes>"
      ]
     },
     "metadata": {},
     "output_type": "display_data"
    }
   ],
   "source": [
    "from sklearn.metrics import accuracy_score, confusion_matrix\n",
    "import seaborn as sns\n",
    "import matplotlib.pyplot as plt\n",
    "\n",
    "# Calculate accuracy\n",
    "accuracy = accuracy_score(satp_df['original_label'], satp_df['predicted_label'])\n",
    "print(f\"Accuracy: {accuracy}\")\n",
    "\n",
    "# Generate confusion matrix\n",
    "conf_matrix = confusion_matrix(satp_df['original_label'], satp_df['predicted_label'])\n",
    "\n",
    "# Print confusion matrix\n",
    "print(conf_matrix)\n",
    "\n",
    "# Plot confusion matrix\n",
    "confusion_labels = [\"Security Forces\", \"Maoist Insurgents\", \"Unknown Actor\"]\n",
    "\n",
    "plt.figure(figsize=(10, 7))\n",
    "sns.heatmap(conf_matrix, annot=True, fmt='g', cmap='Blues',\n",
    "            xticklabels=confusion_labels, yticklabels=confusion_labels)\n",
    "plt.xlabel('Predicted labels')\n",
    "plt.ylabel('True labels')\n",
    "plt.title('Confusion Matrix')\n",
    "plt.show()\n"
   ]
  },
  {
   "cell_type": "markdown",
   "metadata": {},
   "source": [
    "## Export the data for the zero shot model"
   ]
  },
  {
   "cell_type": "code",
   "execution_count": 13,
   "metadata": {},
   "outputs": [],
   "source": [
    "# Assuming satp_df is your updated DataFrame\n",
    "satp_df.to_csv('data/satp_zero_shot.csv', index=False, columns=['incident_number', 'incident_summary', 'predicted_label', 'confidence', 'original_label'])"
   ]
  }
 ],
 "metadata": {
  "kernelspec": {
   "display_name": "code-satp",
   "language": "python",
   "name": "python3"
  },
  "language_info": {
   "codemirror_mode": {
    "name": "ipython",
    "version": 3
   },
   "file_extension": ".py",
   "mimetype": "text/x-python",
   "name": "python",
   "nbconvert_exporter": "python",
   "pygments_lexer": "ipython3",
   "version": "3.9.18"
  },
  "orig_nbformat": 4
 },
 "nbformat": 4,
 "nbformat_minor": 2
}
